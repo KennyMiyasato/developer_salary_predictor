{
 "cells": [
  {
   "cell_type": "code",
   "execution_count": 173,
   "metadata": {},
   "outputs": [],
   "source": [
    "import pandas as pd\n",
    "import matplotlib.pyplot as plt\n",
    "import seaborn as sns\n",
    "import numpy as np\n",
    "from sklearn.linear_model import LinearRegression\n",
    "from sklearn.metrics import mean_squared_error, r2_score\n",
    "sns.set()\n",
    "pd.set_option('display.max_rows', 500)\n",
    "pd.set_option('display.max_columns', 25)\n",
    "pd.set_option('display.width', 20)"
   ]
  },
  {
   "cell_type": "code",
   "execution_count": null,
   "metadata": {},
   "outputs": [],
   "source": [
    "df = pd.read_csv('../shared_datasets/survey_results_public.csv')"
   ]
  },
  {
   "cell_type": "markdown",
   "metadata": {},
   "source": [
    "### Get dataframe with columns important to us:\n",
    "- **Respondent**: Randomized respondent ID number (not in order of survey response time)\n",
    "- **ConvertedComp**: Salary converted to annual USD salaries using the exchange rate on 2019-02-01, assuming 12 working months and 50 working weeks.\n",
    "- **YearsCode**: Including any education, how many years have you been coding?\n",
    "- **Age**: What is your age (in years)? If you prefer not to answer, you may leave this question blank.\n",
    "- **OrgSize**: Approximately how many people are employed by the company or organization you work for?\n",
    "- **Gender**: Which of the following do you currently identify as? Please select all that apply. If you prefer not to answer, you may leave this question blank.\n",
    "- **Ethnicity**: Which of the following do you identify as? Please check all that apply. If you prefer not to answer, you may leave this question blank.\n",
    "- **LanguageWorkedWith**: Which of the following programming, scripting, and markup languages have you done extensive development work in over the past year, and which do you want to work in over the next year?  (If you both worked with the language and want to continue to do so, please check both boxes in that row.)\n",
    "- **Country**: In which country do you currently reside?\n",
    "- **WorkWeekHrs**: On average, how many hours per week do you work?\n",
    "- **Extraversion**: Do you prefer online chat or IRL conversations?\n",
    "- **Dependents**: Do you have any dependents (e.g., children, elders, or others) that you care for?"
   ]
  },
  {
   "cell_type": "markdown",
   "metadata": {},
   "source": [
    "### Run .py files"
   ]
  },
  {
   "cell_type": "code",
   "execution_count": null,
   "metadata": {},
   "outputs": [],
   "source": [
    "%run clean_dataframe.py"
   ]
  },
  {
   "cell_type": "code",
   "execution_count": null,
   "metadata": {},
   "outputs": [],
   "source": [
    "dataframe_class = CleanDataframe(df)\n",
    "df_cleaned = dataframe_class.cleaned_df"
   ]
  },
  {
   "cell_type": "code",
   "execution_count": null,
   "metadata": {},
   "outputs": [],
   "source": [
    "df_cleaned"
   ]
  },
  {
   "cell_type": "code",
   "execution_count": null,
   "metadata": {},
   "outputs": [],
   "source": [
    "list(df_cleaned.columns)"
   ]
  },
  {
   "cell_type": "code",
   "execution_count": null,
   "metadata": {},
   "outputs": [],
   "source": [
    "len(list(df_cleaned.columns))"
   ]
  },
  {
   "cell_type": "code",
   "execution_count": null,
   "metadata": {},
   "outputs": [],
   "source": [
    "corr = df_cleaned.corr()"
   ]
  },
  {
   "cell_type": "code",
   "execution_count": null,
   "metadata": {},
   "outputs": [],
   "source": [
    "fig, ax = plt.subplots(figsize=(10,10))\n",
    "\n",
    "ax = sns.heatmap(\n",
    "    corr,\n",
    "    vmin=-1, vmax=1, center=0,\n",
    "    cmap=sns.diverging_palette(20, 220, n=200),\n",
    "    square=True\n",
    ")\n",
    "ax.set_xticklabels(\n",
    "    ax.get_xticklabels(),\n",
    "    rotation=45,\n",
    "    horizontalalignment='right'\n",
    ");\n"
   ]
  },
  {
   "cell_type": "code",
   "execution_count": null,
   "metadata": {
    "scrolled": true
   },
   "outputs": [],
   "source": [
    "# generate random data-set\n",
    "np.random.seed(0)\n",
    "x = df_cleaned[['Respondent']]\n",
    "y = df_cleaned[['ConvertedComp']]\n",
    "\n",
    "# Model initialization\n",
    "regression_model = LinearRegression()\n",
    "# Fit the data(train the model)\n",
    "regression_model.fit(x, y)\n",
    "# Predict\n",
    "y_predicted = regression_model.predict(x)\n",
    "\n",
    "# model evaluation\n",
    "rmse = mean_squared_error(y, y_predicted)\n",
    "r2 = r2_score(y, y_predicted)\n",
    "\n",
    "# printing values\n",
    "print('Slope:' ,regression_model.coef_)\n",
    "print('Intercept:', regression_model.intercept_)\n",
    "print('Root mean squared error: ', rmse)\n",
    "print('R2 score: ', r2)\n",
    "\n",
    "# plotting values\n",
    "\n",
    "# data points\n",
    "plt.scatter(x, y, s=10)\n",
    "plt.xlabel(x.columns[0])\n",
    "plt.ylabel(y.columns[0])\n",
    "\n",
    "# predicted values\n",
    "plt.plot(x, y_predicted, color='r')\n",
    "plt.show()"
   ]
  },
  {
   "cell_type": "code",
   "execution_count": null,
   "metadata": {},
   "outputs": [],
   "source": [
    "df_cleaned[df_cleaned['ConvertedComp'] >= 200000].sort_values('Age', ascending=True)"
   ]
  },
  {
   "cell_type": "code",
   "execution_count": null,
   "metadata": {},
   "outputs": [],
   "source": [
    "# scratch work\n",
    "# cleaned_df = df[['Respondent','ConvertedComp',\n",
    "#                  'YearsCode','Age','WorkWeekHrs']].dropna()\n",
    "\n",
    "# df_test = cleaned_df.groupby('Gender')['Respondent'].nunique()\n",
    "# df_test\n",
    "\n",
    "# cleaned_df[cleaned_df['ConvertedComp'] >= 1000000].sort_values('Age', ascending=True)\n",
    "# df_converted_comp = pd.DataFrame(cleaned_df[['Respondent', 'YearsCode', 'Age']])\n",
    "# troll = df_converted_comp[ (df_converted_comp['YearsCode'] < 10) ].index\n",
    "\n",
    "# cleaned_df['ConvertedComp'].describe()\n",
    "# test = cleaned_df.sort_values('Age', ascending=True)[:650]\n",
    "# test\n",
    "# cleaned_df[(cleaned_df['Age'] < 18)].sort_values('Age')\n",
    "# cleaned_df[(cleaned_df['Age'] < 18)].sort_values('Age').describe()\n",
    "# list_of_unique_countries = cleaned_df['Country'].unique()\n",
    "\n",
    "# list_of_unique_continent = cleaned_df['Continent'].unique()\n",
    "# foo = cleaned_df[ cleaned_df['Respondent'] == 1438 ]\n",
    "# foo = cleaned_df.sort_values('WorkWeekHrs', ascending=False)\n",
    "# foo\n",
    "# foo.describe()\n",
    "# df_test = cleaned_df.groupby('WorkWeekHrs')['Respondent'].nunique()\n",
    "# df_test\n",
    "# x = np.random.rand(100, 1)\n",
    "# y = 2 + 3 * x + np.random.rand(100, 1)\n",
    "# x = cleaned_df.drop(columns=['ConvertedComp'])\n",
    "# x = cleaned_df[cleaned_df['calc_age'] > 18]\n",
    "# y = cleaned_df[(cleaned_df['calc_age'] > 18) & (cleaned_df['ConvertedComp'])]"
   ]
  },
  {
   "cell_type": "code",
   "execution_count": null,
   "metadata": {},
   "outputs": [],
   "source": []
  },
  {
   "cell_type": "code",
   "execution_count": null,
   "metadata": {},
   "outputs": [],
   "source": []
  },
  {
   "cell_type": "code",
   "execution_count": null,
   "metadata": {},
   "outputs": [],
   "source": []
  },
  {
   "cell_type": "code",
   "execution_count": null,
   "metadata": {},
   "outputs": [],
   "source": []
  },
  {
   "cell_type": "code",
   "execution_count": null,
   "metadata": {},
   "outputs": [],
   "source": []
  },
  {
   "cell_type": "code",
   "execution_count": null,
   "metadata": {},
   "outputs": [],
   "source": []
  },
  {
   "cell_type": "code",
   "execution_count": null,
   "metadata": {},
   "outputs": [],
   "source": []
  }
 ],
 "metadata": {
  "kernelspec": {
   "display_name": "Python 3",
   "language": "python",
   "name": "python3"
  },
  "language_info": {
   "codemirror_mode": {
    "name": "ipython",
    "version": 3
   },
   "file_extension": ".py",
   "mimetype": "text/x-python",
   "name": "python",
   "nbconvert_exporter": "python",
   "pygments_lexer": "ipython3",
   "version": "3.7.4"
  }
 },
 "nbformat": 4,
 "nbformat_minor": 2
}
